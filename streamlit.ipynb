{
 "cells": [
  {
   "cell_type": "code",
   "execution_count": 1,
   "id": "delayed-international",
   "metadata": {},
   "outputs": [],
   "source": [
    "import streamlit as st\n",
    "import pandas as pd"
   ]
  },
  {
   "cell_type": "code",
   "execution_count": 2,
   "id": "funny-recall",
   "metadata": {
    "scrolled": false
   },
   "outputs": [],
   "source": [
    "final = pd.read_csv(\"cluster.csv\",index_col=0)\n",
    "\n",
    "\n",
    "def cluster(title):\n",
    "        return final[(final.title!=title) & (final.segment==int(final[final.title==title][\"segment\"]))][\"title\"].values\n",
    "    \n",
    "def link(title):\n",
    "        return final[(final.title!=title) & (final.segment==int(final[final.title==title][\"segment\"]))][\"link\"].values\n",
    "    \n",
    "def main():       \n",
    "    # front end elements of the web page \n",
    "    html_temp = \"\"\" \n",
    "    <div style =\"background-color:gold;padding:13px\"> \n",
    "    <h1 style =\"color:black;text-align:center;\">Similar Movie App</h1> \n",
    "    </div> \n",
    "    \"\"\"\n",
    "    \n",
    "    page_bg_img = '''\n",
    "    <style>\n",
    "    body{\n",
    "    background-image: url(\"https://mocah.org/uploads/posts/4533539-pulp-fiction-movies-simple-background-skull-drawing-white-background.jpg\");\n",
    "    background-size: cover;}\n",
    "    </style>\n",
    "    '''\n",
    "      \n",
    "    # display the front end aspect\n",
    "    st.markdown(page_bg_img, unsafe_allow_html=True)\n",
    "    st.markdown(html_temp,unsafe_allow_html=True) \n",
    "    st.sidebar.markdown(\"![Alt Text](https://media.giphy.com/media/RlH7GlyiGKJ1ciAbO0/giphy.gif)\")\n",
    "    \n",
    "    # select boxes for movie title\n",
    "    title = st.selectbox('Pick Your Movie',(final[\"title\"]))\n",
    "    result = \"\"\n",
    "    links = \"\"\n",
    "    \n",
    "    # click on \"Find me Similar Movies\" and end up with similar movie and its IMDb link\n",
    "    if st.button(\"Find Similar Movie\"):\n",
    "        result = cluster(title)\n",
    "        links = link(title)\n",
    "        for i in range(len(result)):   \n",
    "            st.success(\"[{}]({})\".format(result[i],links[i]))\n",
    "\n",
    "        \n",
    "if __name__=='__main__': \n",
    "    main()"
   ]
  },
  {
   "cell_type": "code",
   "execution_count": 7,
   "id": "modular-expert",
   "metadata": {},
   "outputs": [
    {
     "name": "stderr",
     "output_type": "stream",
     "text": [
      "[NbConvertApp] Converting notebook streamlit.ipynb to script\n",
      "[NbConvertApp] Writing 1956 bytes to streamlit.py\n"
     ]
    }
   ],
   "source": [
    "# convert streamlit to app.py to run on jupyter notebook\n",
    "!jupyter nbconvert   --to script streamlit.ipynb\n",
    "!awk \"!/ipython/\" streamlit.py > temp.py && mv temp.py app.py && rm streamlit.py"
   ]
  },
  {
   "cell_type": "code",
   "execution_count": null,
   "id": "reasonable-roberts",
   "metadata": {},
   "outputs": [],
   "source": [
    "# run streamlit app\n",
    "!streamlit run app.py"
   ]
  }
 ],
 "metadata": {
  "kernelspec": {
   "display_name": "Python 3",
   "language": "python",
   "name": "python3"
  },
  "language_info": {
   "codemirror_mode": {
    "name": "ipython",
    "version": 3
   },
   "file_extension": ".py",
   "mimetype": "text/x-python",
   "name": "python",
   "nbconvert_exporter": "python",
   "pygments_lexer": "ipython3",
   "version": "3.7.9"
  }
 },
 "nbformat": 4,
 "nbformat_minor": 5
}
